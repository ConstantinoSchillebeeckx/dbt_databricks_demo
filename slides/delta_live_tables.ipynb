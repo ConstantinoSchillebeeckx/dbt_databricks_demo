{
 "cells": [
  {
   "cell_type": "markdown",
   "id": "b45a2c1b",
   "metadata": {
    "slideshow": {
     "slide_type": "slide"
    }
   },
   "source": [
    "# delta live tables (dlt)\n",
    "\n",
    "* build batch or streaming pipelines\n",
    "* easily define end-to-end data pipelines in SQL or Python\n",
    "* Prevent bad data from flowing into tables through validation and integrity checks and avoid data quality errors with predefined error policies (fail, drop, alert or quarantine data)**\n",
    "* Gain deep visibility into pipeline operations with tools to visually track operational stats and data lineage."
   ]
  },
  {
   "cell_type": "markdown",
   "id": "183da597",
   "metadata": {
    "slideshow": {
     "slide_type": "slide"
    }
   },
   "source": [
    "# example pipeline\n",
    "\n",
    "written as a Databricks notebook\n",
    "\n",
    "```\n",
    "import dlt\n",
    "from pyspark.sql.functions import *\n",
    "from pyspark.sql.types import *\n",
    "\n",
    "json_path = \"/databricks-datasets/wikipedia-datasets/data-001/clickstream/raw-uncompressed-json/2015_2_clickstream.json\"\n",
    "@dlt.table(\n",
    "  comment=\"The raw wikipedia clickstream dataset, ingested from /databricks-datasets.\"\n",
    ")\n",
    "def clickstream_raw():\n",
    "  return (spark.read.format(\"json\").load(json_path))\n",
    "\n",
    "@dlt.table(\n",
    "  comment=\"Wikipedia clickstream data cleaned and prepared for analysis.\"\n",
    ")\n",
    "@dlt.expect(\"valid_current_page_title\", \"current_page_title IS NOT NULL\")\n",
    "@dlt.expect_or_fail(\"valid_count\", \"click_count > 0\")\n",
    "def clickstream_prepared():\n",
    "  return (\n",
    "    dlt.read(\"clickstream_raw\")\n",
    "      .withColumn(\"click_count\", expr(\"CAST(n AS INT)\"))\n",
    "      .withColumnRenamed(\"curr_title\", \"current_page_title\")\n",
    "      .withColumnRenamed(\"prev_title\", \"previous_page_title\")\n",
    "      .select(\"current_page_title\", \"click_count\", \"previous_page_title\")\n",
    "  )\n",
    "```"
   ]
  },
  {
   "cell_type": "markdown",
   "id": "a069a2b1",
   "metadata": {
    "slideshow": {
     "slide_type": "slide"
    }
   },
   "source": [
    "![dag](dlt-sales-graph.png)"
   ]
  },
  {
   "cell_type": "markdown",
   "id": "c8cfe144",
   "metadata": {
    "slideshow": {
     "slide_type": "slide"
    }
   },
   "source": [
    "![dag](dlt-sales-dataset-details.png)"
   ]
  },
  {
   "cell_type": "markdown",
   "id": "77670a9c",
   "metadata": {
    "slideshow": {
     "slide_type": "slide"
    }
   },
   "source": [
    "# Limitations\n",
    "\n",
    "\n",
    "* runs on a custom version of Databricks runtime, you cannot manually set the Spark version\n",
    "* development can only be done as a DLT pipeline: you cannot run the pipeline as a normal notebook, you cannot do `import dlt`\n",
    "* each pipeline uses only a single cluster, with optional [enhanced autoscaling](https://docs.databricks.com/workflows/delta-live-tables/delta-live-tables-concepts.html#enable-enhanced-autoscaling): no directly control over concurrency (multiple clusters executing tables in parallel)\n",
    "* vendor locking; cannot extend this to EMR\n",
    "* cannot query views from another cluster\n",
    "* only supports delta tables"
   ]
  }
 ],
 "metadata": {
  "celltoolbar": "Slideshow",
  "kernelspec": {
   "display_name": "Python 3 (ipykernel)",
   "language": "python",
   "name": "python3"
  },
  "language_info": {
   "codemirror_mode": {
    "name": "ipython",
    "version": 3
   },
   "file_extension": ".py",
   "mimetype": "text/x-python",
   "name": "python",
   "nbconvert_exporter": "python",
   "pygments_lexer": "ipython3",
   "version": "3.10.6"
  }
 },
 "nbformat": 4,
 "nbformat_minor": 5
}
